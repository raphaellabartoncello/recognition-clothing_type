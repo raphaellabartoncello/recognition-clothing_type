{
 "cells": [
  {
   "cell_type": "code",
   "execution_count": null,
   "id": "ae1a344f",
   "metadata": {},
   "outputs": [],
   "source": [
    "pip install tensorflow\n",
    "pip install matplotlib"
   ]
  },
  {
   "cell_type": "code",
   "execution_count": null,
   "id": "23631297",
   "metadata": {},
   "outputs": [],
   "source": [
    "import tensorflow\n",
    "from tensorflow import keras\n",
    "import matplotlib.pyplot as plt\n",
    "import numpy as np\n",
    "from tensorflow.keras.models import load_model"
   ]
  },
  {
   "cell_type": "markdown",
   "id": "c3be33bc",
   "metadata": {},
   "source": [
    "#### Dataset do keras - Fashion Mnist \n",
    "https://github.com/zalandoresearch/fashion-mnist"
   ]
  },
  {
   "cell_type": "code",
   "execution_count": null,
   "id": "72d1a6fa",
   "metadata": {},
   "outputs": [],
   "source": [
    "dataset = keras.datasets.fashion_mnist\n",
    "((image_train, label_train),(image_validation, label_validation)) = dataset.load_data()"
   ]
  },
  {
   "cell_type": "markdown",
   "id": "2d2fdfa4",
   "metadata": {},
   "source": [
    "#### Validando o carregamento dos dados nas variáveis criadas"
   ]
  },
  {
   "cell_type": "code",
   "execution_count": null,
   "id": "539d1098",
   "metadata": {},
   "outputs": [],
   "source": [
    "print('---------------')\n",
    "print('Train - Image')\n",
    "print('---------------')\n",
    "print(type(image_train))\n",
    "print(len(image_train))\n",
    "print(image_train.shape)\n",
    "print('---------------')\n",
    "print('Train - Label')\n",
    "print('---------------')\n",
    "print(len(label_train))\n",
    "print(type(label_train))\n",
    "print(label_train.shape)"
   ]
  },
  {
   "cell_type": "code",
   "execution_count": null,
   "id": "05a21486",
   "metadata": {},
   "outputs": [],
   "source": [
    "print('---------------')\n",
    "print('Validation - Image')\n",
    "print('---------------')\n",
    "\n",
    "print(type(image_validation))\n",
    "print(len(image_validation))\n",
    "print(image_validation.shape)\n",
    "\n",
    "print('---------------')\n",
    "print('Validation - Label')\n",
    "print('---------------')\n",
    "\n",
    "print(type(label_validation))\n",
    "print(len(label_validation))\n",
    "print(label_validation.shape)"
   ]
  },
  {
   "cell_type": "markdown",
   "id": "861790ee",
   "metadata": {},
   "source": [
    "#### Classificação conforme documentação"
   ]
  },
  {
   "cell_type": "code",
   "execution_count": null,
   "id": "257d1b08",
   "metadata": {},
   "outputs": [],
   "source": [
    "classification = 10\n",
    "label_classification = ['T-shirt/top','Trouser','Pullover','Dress','Coat','Sandal','Shirt','Sneaker','Bag','Ankle boot']"
   ]
  },
  {
   "cell_type": "markdown",
   "id": "460acd99",
   "metadata": {},
   "source": [
    "#### Visualizando as imagens"
   ]
  },
  {
   "cell_type": "code",
   "execution_count": null,
   "id": "cb2a675f",
   "metadata": {},
   "outputs": [],
   "source": [
    "plt.imshow(image_train[0])\n",
    "plt.title(label_classification[label_train[0]])\n",
    "plt.colorbar()"
   ]
  },
  {
   "cell_type": "code",
   "execution_count": null,
   "id": "b4485fc6",
   "metadata": {},
   "outputs": [],
   "source": [
    "set(label_train)"
   ]
  },
  {
   "cell_type": "code",
   "execution_count": null,
   "id": "40ef4cbf",
   "metadata": {},
   "outputs": [],
   "source": [
    "for image in range(classification):\n",
    "    plt.subplot(2, 5,image+1)\n",
    "    index = np.where(label_train == image)\n",
    "    i = index[0][1]\n",
    "    plt.imshow(image_train[i])\n",
    "    plt.title(label_classification[label_train[i]])"
   ]
  },
  {
   "cell_type": "markdown",
   "id": "65fc46d4",
   "metadata": {},
   "source": [
    "#### Modelagem da rede neural"
   ]
  },
  {
   "cell_type": "code",
   "execution_count": null,
   "id": "3bce772e",
   "metadata": {},
   "outputs": [],
   "source": [
    "#Normalização das imagens\n",
    "#O ponto flutuante vai nos permitir trabalhar com uma escala de 0 a 1 sem perder as escalas de cor da imagem\n",
    "image_train = image_train/float(255)\n",
    "image_validation = image_validation/float(255)"
   ]
  },
  {
   "cell_type": "code",
   "execution_count": null,
   "id": "8d349e24",
   "metadata": {},
   "outputs": [],
   "source": [
    "#Arquitetura do modelo\n",
    "model = keras.Sequential([\n",
    "    keras.layers.Flatten(input_shape=(28,28)), #Shape da imagem recebida\n",
    "    keras.layers.Dense(256, activation=tensorflow.nn.relu),\n",
    "    keras.layers.Dropout(0.2),\n",
    "    keras.layers.Dense(128, activation=tensorflow.nn.relu),\n",
    "    keras.layers.Dense(64, activation=tensorflow.nn.relu),\n",
    "    keras.layers.Dropout(0.3),\n",
    "    keras.layers.Dense(10, activation=tensorflow.nn.softmax)\n",
    "])"
   ]
  },
  {
   "cell_type": "code",
   "execution_count": null,
   "id": "02b09bb4",
   "metadata": {},
   "outputs": [],
   "source": [
    "#Compilando o modelo\n",
    "model.compile(optimizer='adam',\n",
    "             loss='sparse_categorical_crossentropy',\n",
    "             metrics=['accuracy'])"
   ]
  },
  {
   "cell_type": "code",
   "execution_count": null,
   "id": "4dcccdab",
   "metadata": {},
   "outputs": [],
   "source": [
    "#Treinando o modelo\n",
    "history = model.fit(image_train, label_train, epochs=10, validation_split=0.2)"
   ]
  },
  {
   "cell_type": "markdown",
   "id": "382acf71",
   "metadata": {},
   "source": [
    "#### Salvando o modelo"
   ]
  },
  {
   "cell_type": "code",
   "execution_count": null,
   "id": "7475f122",
   "metadata": {},
   "outputs": [],
   "source": [
    "model.save('model.h5')"
   ]
  },
  {
   "cell_type": "markdown",
   "id": "f52e845c",
   "metadata": {},
   "source": [
    "#### Carregando o modelo"
   ]
  },
  {
   "cell_type": "code",
   "execution_count": null,
   "id": "8aa49c08",
   "metadata": {},
   "outputs": [],
   "source": [
    "load = load_model('model.h5')"
   ]
  },
  {
   "cell_type": "markdown",
   "id": "5b15966e",
   "metadata": {},
   "source": [
    "#### Validação de desempenho do modelo"
   ]
  },
  {
   "cell_type": "markdown",
   "id": "bdbcec3d",
   "metadata": {},
   "source": [
    "##### Acurácia por época"
   ]
  },
  {
   "cell_type": "code",
   "execution_count": null,
   "id": "fcc9ef6e",
   "metadata": {},
   "outputs": [],
   "source": [
    "history"
   ]
  },
  {
   "cell_type": "code",
   "execution_count": null,
   "id": "983dec08",
   "metadata": {},
   "outputs": [],
   "source": [
    "plt.plot(history.history['accuracy'])\n",
    "plt.plot(history.history['val_accuracy'])\n",
    "plt.title('Accuracy per epoch')\n",
    "plt.xlabel('epoch')\n",
    "plt.ylabel('accuracy')\n",
    "plt.legend(['train','validation'])"
   ]
  },
  {
   "cell_type": "markdown",
   "id": "c16cb523",
   "metadata": {},
   "source": [
    "##### Perda por época"
   ]
  },
  {
   "cell_type": "code",
   "execution_count": null,
   "id": "a243fc39",
   "metadata": {},
   "outputs": [],
   "source": [
    "plt.plot(history.history['loss'])\n",
    "plt.plot(history.history['val_loss'])\n",
    "plt.title('Loss per epoch')\n",
    "plt.xlabel('epoch')\n",
    "plt.ylabel('loss')\n",
    "plt.legend(['train','validation'])"
   ]
  },
  {
   "cell_type": "markdown",
   "id": "9557874d",
   "metadata": {},
   "source": [
    "### Testes do modelo"
   ]
  },
  {
   "cell_type": "code",
   "execution_count": null,
   "id": "4e331ef0",
   "metadata": {},
   "outputs": [],
   "source": [
    "test = model.predict(image_validation)\n",
    "print('Result model:', np.argmax(test[200]), end='')\n",
    "print(' - Image label:', label_validation[200])\n",
    "if np.argmax(test[200]) == label_validation[200]:\n",
    "    print('--------------------------------')\n",
    "    print('Model got it right! :D')\n",
    "    print('--------------------------------')\n",
    "else:\n",
    "    print('--------------------------------')\n",
    "    print('Model was wrong. :(')\n",
    "    print('--------------------------------')"
   ]
  },
  {
   "cell_type": "markdown",
   "id": "658d9713",
   "metadata": {},
   "source": [
    "#### Avaliação do modelo"
   ]
  },
  {
   "cell_type": "code",
   "execution_count": null,
   "id": "27a26c7f",
   "metadata": {},
   "outputs": [],
   "source": [
    "loss_validation, accuracy_validation = model.evaluate(image_validation, label_validation)\n",
    "print('Loss validation:', loss_validation)\n",
    "print('Accuracy validation:', accuracy_validation)"
   ]
  },
  {
   "cell_type": "code",
   "execution_count": null,
   "id": "30232da6",
   "metadata": {},
   "outputs": [],
   "source": []
  }
 ],
 "metadata": {
  "kernelspec": {
   "display_name": "Python 3",
   "language": "python",
   "name": "python3"
  },
  "language_info": {
   "codemirror_mode": {
    "name": "ipython",
    "version": 3
   },
   "file_extension": ".py",
   "mimetype": "text/x-python",
   "name": "python",
   "nbconvert_exporter": "python",
   "pygments_lexer": "ipython3",
   "version": "3.8.8"
  }
 },
 "nbformat": 4,
 "nbformat_minor": 5
}
